{
  "nbformat": 4,
  "nbformat_minor": 0,
  "metadata": {
    "colab": {
      "provenance": [],
      "authorship_tag": "ABX9TyNIfEs87KvZbNSaY44ugubK",
      "include_colab_link": true
    },
    "kernelspec": {
      "name": "python3",
      "display_name": "Python 3"
    },
    "language_info": {
      "name": "python"
    }
  },
  "cells": [
    {
      "cell_type": "markdown",
      "metadata": {
        "id": "view-in-github",
        "colab_type": "text"
      },
      "source": [
        "<a href=\"https://colab.research.google.com/github/Viola-Ritah/coursework/blob/master/29th%2C_march.ipynb\" target=\"_parent\"><img src=\"https://colab.research.google.com/assets/colab-badge.svg\" alt=\"Open In Colab\"/></a>"
      ]
    },
    {
      "cell_type": "code",
      "source": [],
      "metadata": {
        "id": "c7VqkN76SHig"
      },
      "execution_count": null,
      "outputs": []
    },
    {
      "cell_type": "code",
      "execution_count": null,
      "metadata": {
        "id": "7BlBDBfvLcIv",
        "colab": {
          "base_uri": "https://localhost:8080/"
        },
        "outputId": "d640d591-c5ac-4e60-c9e3-df7471a9d728"
      },
      "outputs": [
        {
          "output_type": "stream",
          "name": "stdout",
          "text": [
            "vIOLARitah\n"
          ]
        }
      ],
      "source": [
        " fname  = 'vIOLA'\n",
        " lname = 'Ritah'\n",
        " fullname = fname + lname\n",
        " print(fullname)"
      ]
    },
    {
      "cell_type": "markdown",
      "source": [
        "**FUNCTIONS**\n",
        "\n",
        "> Indented block\n",
        "\n"
      ],
      "metadata": {
        "id": "V2HP3PUEgq6R"
      }
    },
    {
      "cell_type": "code",
      "source": [
        "def greet(name):\n",
        "  print('Hello ' + name)\n",
        "  print('welcome to Indabax Training')\n",
        "greet('Desire')"
      ],
      "metadata": {
        "colab": {
          "base_uri": "https://localhost:8080/"
        },
        "id": "YkCo4ZSIS3Rm",
        "outputId": "3f9ab7fd-59b5-48a1-ad65-163379a0d8cd"
      },
      "execution_count": null,
      "outputs": [
        {
          "output_type": "stream",
          "name": "stdout",
          "text": [
            "Hello Desire\n",
            "welcome to Indabax Training\n"
          ]
        }
      ]
    }
  ]
}